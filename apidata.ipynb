{
 "cells": [
  {
   "cell_type": "code",
   "execution_count": 2,
   "outputs": [
    {
     "name": "stdout",
     "output_type": "stream",
     "text": [
      "Collecting requests\n",
      "  Downloading requests-2.28.2-py3-none-any.whl (62 kB)\n",
      "Collecting charset-normalizer<4,>=2\n",
      "  Downloading charset_normalizer-3.0.1-cp39-cp39-win_amd64.whl (96 kB)\n",
      "Collecting certifi>=2017.4.17\n",
      "  Using cached certifi-2022.12.7-py3-none-any.whl (155 kB)\n",
      "Collecting urllib3<1.27,>=1.21.1\n",
      "  Using cached urllib3-1.26.14-py2.py3-none-any.whl (140 kB)\n",
      "Collecting idna<4,>=2.5\n",
      "  Using cached idna-3.4-py3-none-any.whl (61 kB)\n",
      "Installing collected packages: urllib3, idna, charset-normalizer, certifi, requests\n",
      "Successfully installed certifi-2022.12.7 charset-normalizer-3.0.1 idna-3.4 requests-2.28.2 urllib3-1.26.14\n"
     ]
    },
    {
     "name": "stderr",
     "output_type": "stream",
     "text": [
      "WARNING: You are using pip version 21.1.2; however, version 22.3.1 is available.\n",
      "You should consider upgrading via the 'C:\\Users\\benbr\\PycharmProjects\\StKittsWindRose\\venv\\Scripts\\python.exe -m pip install --upgrade pip' command.\n"
     ]
    }
   ],
   "source": [
    "!pip install requests"
   ],
   "metadata": {
    "collapsed": false,
    "pycharm": {
     "name": "#%%\n"
    }
   }
  },
  {
   "cell_type": "code",
   "execution_count": 41,
   "outputs": [],
   "source": [
    "import requests\n",
    "import pandas as pd\n",
    "import json\n",
    "import plotly.graph_objects as go\n",
    "import numpy as np\n",
    "import csv"
   ],
   "metadata": {
    "collapsed": false,
    "pycharm": {
     "name": "#%%\n"
    }
   }
  },
  {
   "cell_type": "code",
   "execution_count": 61,
   "metadata": {
    "collapsed": true
   },
   "outputs": [
    {
     "name": "stdout",
     "output_type": "stream",
     "text": [
      "<!DOCTYPE HTML PUBLIC \"-//W3C//DTD HTML 3.2 Final//EN\">\n",
      "<title>400 Bad Request</title>\n",
      "<h1>Bad Request</h1>\n",
      "<p>The browser (or proxy) sent a request that this server could not understand.</p>\n",
      "<script defer src=\"https://static.cloudflareinsights.com/beacon.min.js/vaafb692b2aea4879b33c060e79fe94621666317369993\" integrity=\"sha512-0ahDYl866UMhKuYcW078ScMalXqtFJggm7TmlUtp0UlD4eQk0Ixfnm5ykXKvGJNFjLMoortdseTfsRT8oCfgGA==\" data-cf-beacon='{\"rayId\":\"7915fe5a6add8215\",\"version\":\"2022.11.3\",\"r\":1,\"token\":\"321919e8fad347ac867b2a34c963ad86\",\"si\":100}' crossorigin=\"anonymous\"></script>\n",
      "\n"
     ]
    }
   ],
   "source": [
    "\n",
    "url = \"https://meteostat.p.rapidapi.com/stations/hourly\"\n",
    "\n",
    "querystring = {\"station\":\"10637\",\"start\":\"2022-01-01\",\"end\":\"2022-1-31\",\"model\":\"false\"}\n",
    "\n",
    "headers = {\n",
    "\t\"X-RapidAPI-Key\": \"7c1ecfff65msh6c96b3f57d1f621p15231bjsn3d8825e78f80\",\n",
    "\t\"X-RapidAPI-Host\": \"meteostat.p.rapidapi.com\"\n",
    "}\n",
    "\n",
    "response = requests.request(\"GET\", url, headers=headers, params=querystring)\n",
    "\n",
    "print(response.text)"
   ]
  },
  {
   "cell_type": "code",
   "execution_count": 46,
   "outputs": [],
   "source": [
    "d = response.text"
   ],
   "metadata": {
    "collapsed": false,
    "pycharm": {
     "name": "#%%\n"
    }
   }
  },
  {
   "cell_type": "code",
   "execution_count": 47,
   "outputs": [
    {
     "ename": "SyntaxError",
     "evalue": "invalid syntax (769510137.py, line 1)",
     "output_type": "error",
     "traceback": [
      "\u001B[1;36m  Input \u001B[1;32mIn [47]\u001B[1;36m\u001B[0m\n\u001B[1;33m    data = json.(response.text)\u001B[0m\n\u001B[1;37m                ^\u001B[0m\n\u001B[1;31mSyntaxError\u001B[0m\u001B[1;31m:\u001B[0m invalid syntax\n"
     ]
    }
   ],
   "source": [
    "data = json.(response.text)"
   ],
   "metadata": {
    "collapsed": false,
    "pycharm": {
     "name": "#%%\n"
    }
   }
  },
  {
   "cell_type": "code",
   "execution_count": 30,
   "outputs": [],
   "source": [
    "jd = json.loads(d)"
   ],
   "metadata": {
    "collapsed": false,
    "pycharm": {
     "name": "#%%\n"
    }
   }
  },
  {
   "cell_type": "code",
   "execution_count": 43,
   "outputs": [],
   "source": [
    "df = pd.json_normalize(data = jd['data'], max_level=0, )\n",
    "meta = pd.json_nomalize(data = jd['meta'])\n"
   ],
   "metadata": {
    "collapsed": false,
    "pycharm": {
     "name": "#%%\n"
    }
   }
  },
  {
   "cell_type": "code",
   "execution_count": 38,
   "outputs": [
    {
     "data": {
      "text/plain": "                    time  temp  dwpt  rhum  prcp  snow   wdir  wspd  wpgt  \\\n0    2022-01-01 00:00:00  11.6   9.2  85.0   0.0   0.0  220.0  15.5  23.0   \n1    2022-01-01 01:00:00  11.5   9.1  85.0   0.0   0.0  220.0  15.1  24.0   \n2    2022-01-01 02:00:00  11.4   8.8  84.0   0.0   0.0  210.0  12.6  21.0   \n3    2022-01-01 03:00:00  11.2   8.8  85.0   0.0   0.0  200.0  12.2  20.0   \n4    2022-01-01 04:00:00  11.1   8.8  86.0   0.0   0.0  200.0  15.8  26.0   \n..                   ...   ...   ...   ...   ...   ...    ...   ...   ...   \n115  2022-01-05 19:00:00   3.8  -0.8  72.0   0.0   0.0  230.0  28.4  42.0   \n116  2022-01-05 20:00:00   3.7  -0.5  74.0   0.0   0.0  220.0  20.2  37.0   \n117  2022-01-05 21:00:00   3.9  -0.1  75.0   0.0   0.0  220.0  18.4  27.0   \n118  2022-01-05 22:00:00   3.9   1.1  82.0   0.0   0.0  230.0  18.0  28.0   \n119  2022-01-05 23:00:00   4.3   0.8  78.0   0.0   0.0  230.0  13.3  22.0   \n\n       pres  tsun  coco  \n0    1026.0     0     4  \n1    1026.0     0     4  \n2    1026.4     0     4  \n3    1026.5     0     4  \n4    1026.5     0     4  \n..      ...   ...   ...  \n115  1011.9     0     4  \n116  1012.4     0    14  \n117  1013.0     0     4  \n118  1013.2     0    12  \n119  1013.7     0     4  \n\n[120 rows x 12 columns]",
      "text/html": "<div>\n<style scoped>\n    .dataframe tbody tr th:only-of-type {\n        vertical-align: middle;\n    }\n\n    .dataframe tbody tr th {\n        vertical-align: top;\n    }\n\n    .dataframe thead th {\n        text-align: right;\n    }\n</style>\n<table border=\"1\" class=\"dataframe\">\n  <thead>\n    <tr style=\"text-align: right;\">\n      <th></th>\n      <th>time</th>\n      <th>temp</th>\n      <th>dwpt</th>\n      <th>rhum</th>\n      <th>prcp</th>\n      <th>snow</th>\n      <th>wdir</th>\n      <th>wspd</th>\n      <th>wpgt</th>\n      <th>pres</th>\n      <th>tsun</th>\n      <th>coco</th>\n    </tr>\n  </thead>\n  <tbody>\n    <tr>\n      <th>0</th>\n      <td>2022-01-01 00:00:00</td>\n      <td>11.6</td>\n      <td>9.2</td>\n      <td>85.0</td>\n      <td>0.0</td>\n      <td>0.0</td>\n      <td>220.0</td>\n      <td>15.5</td>\n      <td>23.0</td>\n      <td>1026.0</td>\n      <td>0</td>\n      <td>4</td>\n    </tr>\n    <tr>\n      <th>1</th>\n      <td>2022-01-01 01:00:00</td>\n      <td>11.5</td>\n      <td>9.1</td>\n      <td>85.0</td>\n      <td>0.0</td>\n      <td>0.0</td>\n      <td>220.0</td>\n      <td>15.1</td>\n      <td>24.0</td>\n      <td>1026.0</td>\n      <td>0</td>\n      <td>4</td>\n    </tr>\n    <tr>\n      <th>2</th>\n      <td>2022-01-01 02:00:00</td>\n      <td>11.4</td>\n      <td>8.8</td>\n      <td>84.0</td>\n      <td>0.0</td>\n      <td>0.0</td>\n      <td>210.0</td>\n      <td>12.6</td>\n      <td>21.0</td>\n      <td>1026.4</td>\n      <td>0</td>\n      <td>4</td>\n    </tr>\n    <tr>\n      <th>3</th>\n      <td>2022-01-01 03:00:00</td>\n      <td>11.2</td>\n      <td>8.8</td>\n      <td>85.0</td>\n      <td>0.0</td>\n      <td>0.0</td>\n      <td>200.0</td>\n      <td>12.2</td>\n      <td>20.0</td>\n      <td>1026.5</td>\n      <td>0</td>\n      <td>4</td>\n    </tr>\n    <tr>\n      <th>4</th>\n      <td>2022-01-01 04:00:00</td>\n      <td>11.1</td>\n      <td>8.8</td>\n      <td>86.0</td>\n      <td>0.0</td>\n      <td>0.0</td>\n      <td>200.0</td>\n      <td>15.8</td>\n      <td>26.0</td>\n      <td>1026.5</td>\n      <td>0</td>\n      <td>4</td>\n    </tr>\n    <tr>\n      <th>...</th>\n      <td>...</td>\n      <td>...</td>\n      <td>...</td>\n      <td>...</td>\n      <td>...</td>\n      <td>...</td>\n      <td>...</td>\n      <td>...</td>\n      <td>...</td>\n      <td>...</td>\n      <td>...</td>\n      <td>...</td>\n    </tr>\n    <tr>\n      <th>115</th>\n      <td>2022-01-05 19:00:00</td>\n      <td>3.8</td>\n      <td>-0.8</td>\n      <td>72.0</td>\n      <td>0.0</td>\n      <td>0.0</td>\n      <td>230.0</td>\n      <td>28.4</td>\n      <td>42.0</td>\n      <td>1011.9</td>\n      <td>0</td>\n      <td>4</td>\n    </tr>\n    <tr>\n      <th>116</th>\n      <td>2022-01-05 20:00:00</td>\n      <td>3.7</td>\n      <td>-0.5</td>\n      <td>74.0</td>\n      <td>0.0</td>\n      <td>0.0</td>\n      <td>220.0</td>\n      <td>20.2</td>\n      <td>37.0</td>\n      <td>1012.4</td>\n      <td>0</td>\n      <td>14</td>\n    </tr>\n    <tr>\n      <th>117</th>\n      <td>2022-01-05 21:00:00</td>\n      <td>3.9</td>\n      <td>-0.1</td>\n      <td>75.0</td>\n      <td>0.0</td>\n      <td>0.0</td>\n      <td>220.0</td>\n      <td>18.4</td>\n      <td>27.0</td>\n      <td>1013.0</td>\n      <td>0</td>\n      <td>4</td>\n    </tr>\n    <tr>\n      <th>118</th>\n      <td>2022-01-05 22:00:00</td>\n      <td>3.9</td>\n      <td>1.1</td>\n      <td>82.0</td>\n      <td>0.0</td>\n      <td>0.0</td>\n      <td>230.0</td>\n      <td>18.0</td>\n      <td>28.0</td>\n      <td>1013.2</td>\n      <td>0</td>\n      <td>12</td>\n    </tr>\n    <tr>\n      <th>119</th>\n      <td>2022-01-05 23:00:00</td>\n      <td>4.3</td>\n      <td>0.8</td>\n      <td>78.0</td>\n      <td>0.0</td>\n      <td>0.0</td>\n      <td>230.0</td>\n      <td>13.3</td>\n      <td>22.0</td>\n      <td>1013.7</td>\n      <td>0</td>\n      <td>4</td>\n    </tr>\n  </tbody>\n</table>\n<p>120 rows × 12 columns</p>\n</div>"
     },
     "execution_count": 38,
     "metadata": {},
     "output_type": "execute_result"
    }
   ],
   "source": [
    "df"
   ],
   "metadata": {
    "collapsed": false,
    "pycharm": {
     "name": "#%%\n"
    }
   }
  },
  {
   "cell_type": "code",
   "execution_count": 39,
   "outputs": [],
   "source": [],
   "metadata": {
    "collapsed": false,
    "pycharm": {
     "name": "#%%\n"
    }
   }
  },
  {
   "cell_type": "code",
   "execution_count": 56,
   "outputs": [],
   "source": [
    "def wind_rose_fig(frequencies_df, filename):\n",
    "    filename = str(filename)\n",
    "    fig = go.Figure()\n",
    "    fig.add_trace(go.Barpolar(\n",
    "        r=frequencies_df.loc[('0-2 m/s'), 'frequency'],\n",
    "        name='1 m/s',\n",
    "        marker_color='#bfe8ff'))\n",
    "\n",
    "    fig.add_trace(go.Barpolar(\n",
    "        r=frequencies_df.loc[('2-4 m/s'), 'frequency'],\n",
    "        name='2 m/s',\n",
    "        marker_color='#8eb9dd'))\n",
    "\n",
    "    fig.add_trace(go.Barpolar(\n",
    "        r=frequencies_df.loc[('4-6 m/s'), 'frequency'],\n",
    "        name='3 m/s',\n",
    "        marker_color='#77a2cd'))\n",
    "\n",
    "    fig.add_trace(go.Barpolar(\n",
    "        r=frequencies_df.loc[('6-8 m/s'), 'frequency'],\n",
    "        name='4 m/s',\n",
    "        marker_color='#5e89bc'))\n",
    "\n",
    "    fig.add_trace(go.Barpolar(\n",
    "        r=frequencies_df.loc[('8-10 m/s'), 'frequency'],\n",
    "        name='5 m/s',\n",
    "        marker_color='#4772ac'))\n",
    "\n",
    "    fig.add_trace(go.Barpolar(\n",
    "        r=frequencies_df.loc[('10-12 m/s'), 'frequency'],\n",
    "        name='6 m/s',\n",
    "        marker_color='#2e599b'))\n",
    "\n",
    "    fig.add_trace(go.Barpolar(\n",
    "        r=frequencies_df.loc[('12-14 m/s'), 'frequency'],\n",
    "        name='7 m/s',\n",
    "        marker_color='#17438b'))\n",
    "\n",
    "    fig.add_trace(go.Barpolar(\n",
    "        r=frequencies_df.loc[('14-16 m/s'), 'frequency'],\n",
    "        name='8 m/s',\n",
    "        marker_color='#002c7b'))\n",
    "\n",
    "    fig.add_trace(go.Barpolar(\n",
    "        r=frequencies_df.loc[('>16 m/s'), 'frequency'],\n",
    "        name='>8 m/s',\n",
    "        marker_color='#000000'))\n",
    "\n",
    "    fig.update_traces(\n",
    "        text=['North', 'NNE', 'NE', 'ENE', 'East', 'ESE', 'SE', 'SSE', 'South', 'SSW', 'SW', 'WSW', 'West', 'WNW', 'NW', 'NNW'])\n",
    "\n",
    "    fig.update_layout(\n",
    "\n",
    "        # title=title,\n",
    "        # title_font_size=26,\n",
    "        # title_x=0.463,\n",
    "        # legend_font_size=18,\n",
    "        showlegend=False,\n",
    "        paper_bgcolor='rgba(0,0,0,0)',\n",
    "        polar_bgcolor = \"rgb(200,200,200)\",\n",
    "        polar_radialaxis_ticksuffix='%',\n",
    "        polar_angularaxis_rotation=90,\n",
    "        polar_angularaxis_direction='clockwise',\n",
    "        polar_angularaxis_tickmode='array',\n",
    "        polar_angularaxis_showticklabels=False,\n",
    "        # polar_angularaxis_tickvals=[0, 22.5, 45, 72.5, 90, 112.5, 135, 157.5, 180, 202.5, 225, 247.5, 270, 292.5, 315, 337.5],\n",
    "        # polar_angularaxis_ticktext=['<b>North</b>', 'NNE', '<b>NE</b>', 'ENE', '<b>East</b>', 'ESE', '<b>SE</b>', 'SSE', '<b>South</b>', 'SSW', '<b>SW</b>', 'WSW', '<b>West</b>', 'WNW', '<b>NW</b>', 'NNW'],\n",
    "        # polar_angularaxis_tickfont_size=12,\n",
    "        polar_radialaxis_tickfont_color= \"rgb(20,20,20)\",\n",
    "        polar_radialaxis_tickmode='linear',\n",
    "        polar_radialaxis_angle=-90,\n",
    "        polar_radialaxis_tick0=10,\n",
    "        polar_radialaxis_dtick=10,\n",
    "        polar_radialaxis_tickangle=-90,\n",
    "        polar_radialaxis_tickfont_size=14)\n",
    "\n",
    "    fig.write_image('output/' + filename + '.png')\n",
    "def wind_dir_speed_freq(wind_rose_data, boundary_lower_speed, boundary_higher_speed, boundary_lower_direction, boundary_higher_direction):\n",
    "    # mask for wind speed column\n",
    "    log_mask_speed = (wind_rose_data[:, 0] >= boundary_lower_speed) & (wind_rose_data[:, 0] < boundary_higher_speed)\n",
    "    # mask for wind direction\n",
    "    log_mask_direction = (wind_rose_data[:, 1] >= boundary_lower_direction) & (\n",
    "                wind_rose_data[:, 1] < boundary_higher_direction)\n",
    "\n",
    "    # application of the filter on the wind_rose_data array\n",
    "    return wind_rose_data[log_mask_speed & log_mask_direction]    # application of the filter on the wind_rose_data array\n",
    "\n",
    "def wind_rose(df, station):\n",
    "    wind_rose_df = pd.DataFrame(np.zeros((16 * 9, 3)), index=None, columns=('direction', 'strength', 'frequency'))\n",
    "    directions = ['N', 'NNE', 'NE', 'ENE', 'E', 'ESE', 'SE', 'SSE', 'S', 'SSW', 'SW', 'WSW', 'W', 'WNW', 'NW', 'NNW']\n",
    "    directions_deg = np.array([0, 22.5, 45, 72.5, 90, 112.5, 135, 157.5, 180, 202.5, 225, 247.5, 270, 292.5, 315, 337.5])\n",
    "    speed_bins = ['0-2 m/s', '2-4 m/s', '4-6 m/s', '6-8 m/s', '8-10 m/s', '10-12 m/s', '12-14 m/s', '14-16 m/s', '>16 m/s']\n",
    "    df['wspd'] = df['wspd'].astype(int) / 3.6 #convert km/s m/s\n",
    "    df['wspd'] = df['wspd'].astype(int)\n",
    "    df['wdir'] = df['wdir'].astype(int)\n",
    "    df = df.drop(df[(df.wspd == 9999)].index)\n",
    "    df = df.drop(df[(df.wdir == 999)].index)\n",
    "    wind_rose_data = df[['wspd', 'wdir']].to_numpy()\n",
    "    step = 11.25\n",
    "    for i in range(len(wind_rose_data)):\n",
    "        if directions_deg[-1] + step <= wind_rose_data[i, 1] and wind_rose_data[i, 1] < 360:\n",
    "            wind_rose_data[i, 1] = wind_rose_data[i, 1] - 360\n",
    "    bin_edges_dir = directions_deg - step\n",
    "    bin_edges_dir = np.append(bin_edges_dir, [directions_deg[-1] + step])\n",
    "    threshold_outlier_rm = 9\n",
    "    bin_edges_speed = np.array([0, 1, 2, 3, 4, 5, 6, 7, 8, threshold_outlier_rm])\n",
    "    frequencies = np.array([])\n",
    "    idx = pd.MultiIndex.from_product([speed_bins, directions_deg], names=['wind_speed_bins', 'wind_direction_bins'])\n",
    "    col = ['frequency']\n",
    "    frequencies_df = pd.DataFrame(0, idx, col)\n",
    "    # loop selecting given bins and calculating frequencies\n",
    "    for i in range(len(bin_edges_speed) - 1):\n",
    "        for j in range(len(bin_edges_dir) - 1):\n",
    "            bin_contents = wind_dir_speed_freq(wind_rose_data, bin_edges_speed[i], bin_edges_speed[i + 1], bin_edges_dir[j], bin_edges_dir[j + 1])\n",
    "\n",
    "            # applying the filtering function for every bin and checking the number of measurements\n",
    "            bin_size = len(bin_contents)\n",
    "            frequency = bin_size / len(wind_rose_data)\n",
    "\n",
    "            #obtaining the final frequencies of bin\n",
    "            frequencies = np.append(frequencies, frequency)\n",
    "    frequencies_df.frequency = frequencies * 100  # [%]\n",
    "    wind_rose_df.frequency = frequencies * 100  # [%]\n",
    "    wind_rose_fig(frequencies_df, station)\n"
   ],
   "metadata": {
    "collapsed": false,
    "pycharm": {
     "name": "#%%\n"
    }
   }
  },
  {
   "cell_type": "code",
   "execution_count": 57,
   "outputs": [],
   "source": [
    "wind_rose(df, station)\n"
   ],
   "metadata": {
    "collapsed": false,
    "pycharm": {
     "name": "#%%\n"
    }
   }
  },
  {
   "cell_type": "code",
   "execution_count": 6,
   "outputs": [
    {
     "name": "stdout",
     "output_type": "stream",
     "text": [
      "<Response [200]>\n"
     ]
    }
   ],
   "source": [
    "\n",
    "\n",
    "with open(\"output/file_list.csv\", 'w', newline='') as myfile:\n",
    "     wr = csv.writer(myfile, quoting=csv.QUOTE_ALL)\n",
    "     for names in name_list:\n",
    "         wr.writerow(names)"
   ],
   "metadata": {
    "collapsed": false,
    "pycharm": {
     "name": "#%%\n"
    }
   }
  }
 ],
 "metadata": {
  "kernelspec": {
   "display_name": "Python 3",
   "language": "python",
   "name": "python3"
  },
  "language_info": {
   "codemirror_mode": {
    "name": "ipython",
    "version": 2
   },
   "file_extension": ".py",
   "mimetype": "text/x-python",
   "name": "python",
   "nbconvert_exporter": "python",
   "pygments_lexer": "ipython2",
   "version": "2.7.6"
  }
 },
 "nbformat": 4,
 "nbformat_minor": 0
}