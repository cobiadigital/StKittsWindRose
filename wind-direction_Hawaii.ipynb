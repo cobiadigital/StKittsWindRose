{
 "cells": [
  {
   "cell_type": "code",
   "execution_count": 19,
   "metadata": {},
   "outputs": [],
   "source": [
    "import pandas as pd\n",
    "import plotly.graph_objects as go\n",
    "import numpy as np\n",
    "import glob\n",
    "import csv\n"
   ]
  },
  {
   "cell_type": "code",
   "execution_count": null,
   "outputs": [],
   "source": [],
   "metadata": {
    "collapsed": false,
    "pycharm": {
     "name": "#%%\n"
    }
   }
  },
  {
   "cell_type": "code",
   "execution_count": 66,
   "outputs": [],
   "source": [
    "\n",
    "def wind_rose_fig(frequencies_df, filename):\n",
    "    fig = go.Figure()\n",
    "    fig.add_trace(go.Barpolar(\n",
    "        r=frequencies_df.loc[('0-2 m/s'), 'frequency'],\n",
    "        name='1 m/s',\n",
    "        marker_color='#bfe8ff'))\n",
    "\n",
    "    fig.add_trace(go.Barpolar(\n",
    "        r=frequencies_df.loc[('2-4 m/s'), 'frequency'],\n",
    "        name='2 m/s',\n",
    "        marker_color='#8eb9dd'))\n",
    "\n",
    "    fig.add_trace(go.Barpolar(\n",
    "        r=frequencies_df.loc[('4-6 m/s'), 'frequency'],\n",
    "        name='3 m/s',\n",
    "        marker_color='#77a2cd'))\n",
    "\n",
    "    fig.add_trace(go.Barpolar(\n",
    "        r=frequencies_df.loc[('6-8 m/s'), 'frequency'],\n",
    "        name='4 m/s',\n",
    "        marker_color='#5e89bc'))\n",
    "\n",
    "    fig.add_trace(go.Barpolar(\n",
    "        r=frequencies_df.loc[('8-10 m/s'), 'frequency'],\n",
    "        name='5 m/s',\n",
    "        marker_color='#4772ac'))\n",
    "\n",
    "    fig.add_trace(go.Barpolar(\n",
    "        r=frequencies_df.loc[('10-12 m/s'), 'frequency'],\n",
    "        name='6 m/s',\n",
    "        marker_color='#2e599b'))\n",
    "\n",
    "    fig.add_trace(go.Barpolar(\n",
    "        r=frequencies_df.loc[('12-14 m/s'), 'frequency'],\n",
    "        name='7 m/s',\n",
    "        marker_color='#17438b'))\n",
    "\n",
    "    fig.add_trace(go.Barpolar(\n",
    "        r=frequencies_df.loc[('14-16 m/s'), 'frequency'],\n",
    "        name='8 m/s',\n",
    "        marker_color='#002c7b'))\n",
    "\n",
    "    fig.add_trace(go.Barpolar(\n",
    "        r=frequencies_df.loc[('>16 m/s'), 'frequency'],\n",
    "        name='>8 m/s',\n",
    "        marker_color='#000000'))\n",
    "\n",
    "    fig.update_traces(\n",
    "        text=['North', 'NNE', 'NE', 'ENE', 'East', 'ESE', 'SE', 'SSE', 'South', 'SSW', 'SW', 'WSW', 'West', 'WNW', 'NW', 'NNW'])\n",
    "\n",
    "    fig.update_layout(\n",
    "\n",
    "        # title=title,\n",
    "        # title_font_size=26,\n",
    "        # title_x=0.463,\n",
    "        # legend_font_size=18,\n",
    "        showlegend=False,\n",
    "        paper_bgcolor='rgba(0,0,0,0)',\n",
    "        polar_bgcolor = \"rgb(200,200,200)\",\n",
    "        polar_radialaxis_ticksuffix='%',\n",
    "        polar_angularaxis_rotation=90,\n",
    "        polar_angularaxis_direction='clockwise',\n",
    "        polar_angularaxis_tickmode='array',\n",
    "        polar_angularaxis_showticklabels=False,\n",
    "        # polar_angularaxis_tickvals=[0, 22.5, 45, 72.5, 90, 112.5, 135, 157.5, 180, 202.5, 225, 247.5, 270, 292.5, 315, 337.5],\n",
    "        # polar_angularaxis_ticktext=['<b>North</b>', 'NNE', '<b>NE</b>', 'ENE', '<b>East</b>', 'ESE', '<b>SE</b>', 'SSE', '<b>South</b>', 'SSW', '<b>SW</b>', 'WSW', '<b>West</b>', 'WNW', '<b>NW</b>', 'NNW'],\n",
    "        # polar_angularaxis_tickfont_size=12,\n",
    "        polar_radialaxis_tickfont_color= \"rgb(20,20,20)\",\n",
    "        polar_radialaxis_tickmode='linear',\n",
    "        polar_radialaxis_angle=-90,\n",
    "        polar_radialaxis_tick0=10,\n",
    "        polar_radialaxis_dtick=10,\n",
    "        polar_radialaxis_tickangle=-90,\n",
    "        polar_radialaxis_tickfont_size=14)\n",
    "\n",
    "    fig.write_image('output/' + filename)\n",
    "def wind_dir_speed_freq(boundary_lower_speed, boundary_higher_speed, boundary_lower_direction, boundary_higher_direction):\n",
    "    # mask for wind speed column\n",
    "    log_mask_speed = (wind_rose_data[:, 0] >= boundary_lower_speed) & (wind_rose_data[:, 0] < boundary_higher_speed)\n",
    "    # mask for wind direction\n",
    "    log_mask_direction = (wind_rose_data[:, 1] >= boundary_lower_direction) & (\n",
    "                wind_rose_data[:, 1] < boundary_higher_direction)\n",
    "\n",
    "    # application of the filter on the wind_rose_data array\n",
    "    return wind_rose_data[log_mask_speed & log_mask_direction]    # application of the filter on the wind_rose_data array\n",
    "\n",
    "def wind_rose(file):\n",
    "    wind_rose_df = pd.DataFrame(np.zeros((16 * 9, 3)), index=None, columns=('direction', 'strength', 'frequency'))\n",
    "    directions = ['N', 'NNE', 'NE', 'ENE', 'E', 'ESE', 'SE', 'SSE', 'S', 'SSW', 'SW', 'WSW', 'W', 'WNW', 'NW', 'NNW']\n",
    "    directions_deg = np.array([0, 22.5, 45, 72.5, 90, 112.5, 135, 157.5, 180, 202.5, 225, 247.5, 270, 292.5, 315, 337.5])\n",
    "    speed_bins = ['0-2 m/s', '2-4 m/s', '4-6 m/s', '6-8 m/s', '8-10 m/s', '10-12 m/s', '12-14 m/s', '14-16 m/s', '>16 m/s']\n",
    "    df = pd.read_csv(file, parse_dates=[\"DATE\"],index_col=[\"DATE\"], low_memory=False)\n",
    "    df = df.drop(df.iloc[:,15:-1],axis = 1)\n",
    "    filename = df['NAME'][2][:10] + '.png'\n",
    "    lat = df['LATITUDE'][2]\n",
    "    long = df['LONGITUDE'][2]\n",
    "    df[['Dir','DirQ', 'Obs', 'Speed','SpeedQ']] = df['WND'].str.split(',', expand=True)\n",
    "    df['Speed'] = df['Speed'].astype(int) * .1 #add decimal back in\n",
    "    df['Speed'] = df['Speed'].astype(int)\n",
    "    df['Dir'] = df['Dir'].astype(int)\n",
    "    df = df.drop(df[(df.Speed == 9999)].index)\n",
    "    df = df.drop(df[(df.Dir == 999)].index)\n",
    "    wind_rose_data = df[['Speed', 'Dir']].to_numpy()\n",
    "    step = 11.25\n",
    "    for i in range(len(wind_rose_data)):\n",
    "        if directions_deg[-1] + step <= wind_rose_data[i, 1] and wind_rose_data[i, 1] < 360:\n",
    "            wind_rose_data[i, 1] = wind_rose_data[i, 1] - 360\n",
    "    bin_edges_dir = directions_deg - step\n",
    "    bin_edges_dir = np.append(bin_edges_dir, [directions_deg[-1] + step])\n",
    "    threshold_outlier_rm = 9\n",
    "    bin_edges_speed = np.array([0, 1, 2, 3, 4, 5, 6, 7, 8, threshold_outlier_rm])\n",
    "    frequencies = np.array([])\n",
    "    idx = pd.MultiIndex.from_product([speed_bins, directions_deg], names=['wind_speed_bins', 'wind_direction_bins'])\n",
    "    col = ['frequency']\n",
    "    frequencies_df = pd.DataFrame(0, idx, col)\n",
    "    # loop selecting given bins and calculating frequencies\n",
    "    for i in range(len(bin_edges_speed) - 1):\n",
    "        for j in range(len(bin_edges_dir) - 1):\n",
    "            bin_contents = wind_dir_speed_freq(bin_edges_speed[i], bin_edges_speed[i + 1], bin_edges_dir[j], bin_edges_dir[j + 1])\n",
    "\n",
    "            # applying the filtering function for every bin and checking the number of measurements\n",
    "            bin_size = len(bin_contents)\n",
    "            frequency = bin_size / len(wind_rose_data)\n",
    "\n",
    "            #obtaining the final frequencies of bin\n",
    "            frequencies = np.append(frequencies, frequency)\n",
    "    frequencies_df.frequency = frequencies * 100  # [%]\n",
    "    wind_rose_df.frequency = frequencies * 100  # [%]\n",
    "    wind_rose_fig(frequencies_df, filename)\n",
    "    name_list = [lat, long, filename]\n",
    "    return name_list\n",
    "\n",
    "\n"
   ],
   "metadata": {
    "collapsed": false,
    "pycharm": {
     "name": "#%%\n"
    }
   }
  },
  {
   "cell_type": "code",
   "execution_count": null,
   "outputs": [],
   "source": [],
   "metadata": {
    "collapsed": false,
    "pycharm": {
     "name": "#%%\n"
    }
   }
  },
  {
   "cell_type": "code",
   "execution_count": 70,
   "outputs": [],
   "source": [
    "\n",
    "#csv_files = glob.glob('data/hawaii/*.csv')\n",
    "year = \"2022\"\n",
    "base_url = 'https://www.ncei.noaa.gov/data/global-hourly/access/'\n",
    "location = '99819199999'\n",
    "csv_file = base_url + year + '/' + location + '.csv'\n",
    "name_list = []\n",
    "for file in locations:\n",
    "    name_list.append(wind_rose(file))\n",
    "\n",
    "\n",
    "with open(\"output/file_list.csv\", 'w', newline='') as myfile:\n",
    "     wr = csv.writer(myfile, quoting=csv.QUOTE_ALL)\n",
    "     for names in name_list:\n",
    "         wr.writerow(names)"
   ],
   "metadata": {
    "collapsed": false,
    "pycharm": {
     "name": "#%%\n"
    }
   }
  },
  {
   "cell_type": "markdown",
   "metadata": {},
   "source": []
  },
  {
   "cell_type": "code",
   "execution_count": 63,
   "outputs": [],
   "source": [],
   "metadata": {
    "collapsed": false,
    "pycharm": {
     "name": "#%%\n"
    }
   }
  },
  {
   "cell_type": "markdown",
   "metadata": {
    "pycharm": {
     "name": "#%% md\n"
    }
   },
   "source": []
  }
 ],
 "metadata": {
  "kernelspec": {
   "display_name": "Python 3 (ipykernel)",
   "language": "python",
   "name": "python3"
  },
  "language_info": {
   "codemirror_mode": {
    "name": "ipython",
    "version": 3
   },
   "file_extension": ".py",
   "mimetype": "text/x-python",
   "name": "python",
   "nbconvert_exporter": "python",
   "pygments_lexer": "ipython3",
   "version": "3.9.5"
  }
 },
 "nbformat": 4,
 "nbformat_minor": 1
}